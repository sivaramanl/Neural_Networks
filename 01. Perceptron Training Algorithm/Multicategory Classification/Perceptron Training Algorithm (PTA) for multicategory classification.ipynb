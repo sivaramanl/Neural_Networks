{
 "cells": [
  {
   "cell_type": "markdown",
   "metadata": {},
   "source": [
    "<center><b>Perceptron Training Algorithm<br>Multicategory classification</b></center>"
   ]
  },
  {
   "cell_type": "markdown",
   "metadata": {},
   "source": [
    "Downloading and reshaping the MNIST digit data."
   ]
  },
  {
   "cell_type": "code",
   "execution_count": 1,
   "metadata": {},
   "outputs": [
    {
     "name": "stdout",
     "output_type": "stream",
     "text": [
      "Downloading file:  train-images-idx3-ubyte.gz\n",
      "Downloading file:  train-labels-idx1-ubyte.gz\n",
      "Downloading file:  t10k-images-idx3-ubyte.gz\n",
      "Downloading file:  t10k-labels-idx1-ubyte.gz\n"
     ]
    }
   ],
   "source": [
    "#Download the MNIST data\n",
    "\n",
    "import urllib.request\n",
    "import os\n",
    "import gzip\n",
    "import numpy as np\n",
    "\n",
    "def extractData(fileName, isData):\n",
    "    if os.path.exists(fileName):\n",
    "        if isData:\n",
    "            offsetBit = 16 #Offset byte is 16 for data as per description\n",
    "        else:\n",
    "            offsetBit = 8 #Offset byte is 8 for labels as per description\n",
    "        with gzip.open(fileName, 'rb') as f:\n",
    "            data = np.frombuffer(f.read(), np.uint8, offset = offsetBit)\n",
    "        return data\n",
    "    \n",
    "def getData(fileName, URL, isData=True):\n",
    "    if not os.path.exists(fileName):\n",
    "        print(\"Downloading file: \", fileName)\n",
    "        urllib.request.urlretrieve(URL + fileName, fileName)\n",
    "    else:\n",
    "        print(\"File already exists.\")\n",
    "    return extractData(fileName, isData)\n",
    "    \n",
    "def loadData(isTrain):\n",
    "    URL = 'http://yann.lecun.com/exdb/mnist/'\n",
    "    if isTrain:\n",
    "        dataFile = 'train-images-idx3-ubyte.gz'\n",
    "        labelsFile = 'train-labels-idx1-ubyte.gz'\n",
    "    else:\n",
    "        dataFile = 't10k-images-idx3-ubyte.gz'\n",
    "        labelsFile = 't10k-labels-idx1-ubyte.gz'\n",
    "    return getData(dataFile, URL), getData(labelsFile, URL, False)\n",
    "\n",
    "trainDataX, trainDataY = loadData(True)\n",
    "testDataX, testDataY = loadData(False)"
   ]
  },
  {
   "cell_type": "code",
   "execution_count": 2,
   "metadata": {},
   "outputs": [],
   "source": [
    "#Reshaping the linear data into matrices\n",
    "\n",
    "trainDataSize = 60000\n",
    "testDataSize = 10000\n",
    "imgSizeX = 28\n",
    "imgSizeY = 28\n",
    "\n",
    "trainX = trainDataX.reshape(trainDataSize, imgSizeX * imgSizeY)\n",
    "trainY = trainDataY.reshape(trainDataSize, 1)\n",
    "testX = testDataX.reshape(testDataSize, imgSizeX * imgSizeY)\n",
    "testY = testDataY.reshape(testDataSize, 1)\n",
    "trainX2 = testX.reshape(10000, imgSizeX * imgSizeY)"
   ]
  },
  {
   "cell_type": "markdown",
   "metadata": {},
   "source": [
    "<b>Perceptron Training Algorithm</b>"
   ]
  },
  {
   "cell_type": "code",
   "execution_count": 13,
   "metadata": {},
   "outputs": [],
   "source": [
    "#PTA implementation\n",
    "\n",
    "#Step activation function\n",
    "def stepActivationFn(vector):\n",
    "    return np.array([1 if vector[i] >= 0 else 0 for i in range(len(vector))])\n",
    "      \n",
    "#Method to convert output data into one-hot encoded list\n",
    "def getVectorForOutput(y, length):\n",
    "    return np.array([1 if i == y else 0 for i in range(length)])\n",
    "\n",
    "#Method to update the weights for PTA\n",
    "def updateWeightsForPTA(W, xi, yi, eta):\n",
    "    #W = W + eta (d(xi) - u(Wxi))xiT\n",
    "    v = np.matmul(W, xi)\n",
    "    U = stepActivationFn(v) #u(Wxi)\n",
    "    dxi = getVectorForOutput(yi, U.shape[0])\n",
    "    diff = dxi - U\n",
    "    diff = diff.reshape(diff.shape[0], 1)\n",
    "    xi_T = xi.reshape(1, xi.shape[0])\n",
    "    W = W + (eta * np.matmul(diff, xi_T))\n",
    "    return W\n",
    "\n",
    "#Method to implement the multicategory PTA\n",
    "def PTA(X, y, eta, epsilon, n, maxEpoch = 0): #maxEpoch is used to terminate the training when convergence doesn't occur in limited time\n",
    "    #Random weight initialization\n",
    "    W = np.random.rand(10, 784)\n",
    "    epoch = 0\n",
    "    misclassifications_counter = []\n",
    "    \n",
    "    while(epoch == 0 or misclassifications_counter[epoch - 1] / n > epsilon):\n",
    "        misclassifications_counter.append(0)\n",
    "        \n",
    "        for i in range(n):\n",
    "            v = np.matmul(W, X[i]) #Induced local field\n",
    "            pred_label = np.argmax(v)\n",
    "            if pred_label != y[i]:\n",
    "                misclassifications_counter[epoch] += 1\n",
    "\n",
    "        epoch += 1\n",
    "\n",
    "        for i in range(n):\n",
    "            #W = W + eta (d(xi) - u(Wxi))xiT\n",
    "            W = updateWeightsForPTA(W, X[i], y[i], eta)\n",
    "            \n",
    "        if maxEpoch > 0 and epoch > maxEpoch:\n",
    "            break\n",
    "    \n",
    "    return W, misclassifications_counter\n",
    "\n",
    "#Method to test the given model on the test data\n",
    "def testModel(X, y, W, n = 10000):\n",
    "    error = 0\n",
    "    for i in range(n):\n",
    "        v = np.matmul(W, X[i])\n",
    "        pred_label = np.argmax(v)\n",
    "        if pred_label != y[i]:\n",
    "            error += 1\n",
    "    return error\n",
    "\n",
    "#Method to plot the misclassifications vs epoch\n",
    "def plotMisclassifications(misclassifications_counter, title = \"Epoch vs misclassifications\"):\n",
    "    plt.plot(range(len(misclassifications_counter)), misclassifications_counter)\n",
    "    plt.title(title)\n",
    "    plt.xlabel('Epoch')\n",
    "    plt.ylabel('#Misclassifications')"
   ]
  },
  {
   "cell_type": "markdown",
   "metadata": {},
   "source": [
    "Training for n = 50, eta = 1, epsilon = 0 and testing the data using the test data."
   ]
  },
  {
   "cell_type": "code",
   "execution_count": 14,
   "metadata": {},
   "outputs": [
    {
     "name": "stdout",
     "output_type": "stream",
     "text": [
      "Misclassifications percentage over training data:  0.0\n"
     ]
    },
    {
     "data": {
      "image/png": "[encoded data removed]",
      "text/plain": [
       "<Figure size 432x288 with 1 Axes>"
      ]
     },
     "metadata": {
      "needs_background": "light"
     },
     "output_type": "display_data"
    }
   ],
   "source": [
    "#n = 50, eta = 1, epsilon = 0\n",
    "n = 50\n",
    "eta = 1\n",
    "epsilon = 0\n",
    "\n",
    "#Training model\n",
    "W, misclassifications_counter = PTA(trainX, trainY, eta, epsilon, n)\n",
    "plotMisclassifications(misclassifications_counter, \"Epoch vs misclassifications for n=50, eta = 1, epsilon = 0\")\n",
    "print(\"Misclassifications percentage over training data: \", misclassifications_counter[len(misclassifications_counter) - 1] / n * 100)"
   ]
  },
  {
   "cell_type": "code",
   "execution_count": 15,
   "metadata": {},
   "outputs": [
    {
     "name": "stdout",
     "output_type": "stream",
     "text": [
      "Misclassifications percentage over test data:  45.6\n"
     ]
    }
   ],
   "source": [
    "#Validation using test data\n",
    "error = testModel(testX, testY, W)\n",
    "print(\"Misclassifications percentage over test data: \", error / 10000 * 100)"
   ]
  },
  {
   "cell_type": "markdown",
   "metadata": {},
   "source": [
    "<b>Observations:</b>\n",
    "<ul>\n",
    "    <li>\n",
    "        The training data for n = 50 converges to error = 0 in very less number of epochs.\n",
    "    </li>\n",
    "    <li>\n",
    "        However, the error rate on the test data is 45.6%. This could be due to the fact the training size is very less and the information learnt from the subset of example for n = 50 could be vastly different from the test data.\n",
    "    </li>\n",
    "</ul>"
   ]
  },
  {
   "cell_type": "markdown",
   "metadata": {},
   "source": [
    "Training for n = 1000, eta = 1, epsilon = 0 and testing the data using the test data."
   ]
  },
  {
   "cell_type": "code",
   "execution_count": 16,
   "metadata": {},
   "outputs": [
    {
     "name": "stdout",
     "output_type": "stream",
     "text": [
      "Misclassifications percentage over training data:  0.0\n"
     ]
    },
    {
     "data": {
      "image/png": "[encoded data removed]",
      "text/plain": [
       "<Figure size 432x288 with 1 Axes>"
      ]
     },
     "metadata": {
      "needs_background": "light"
     },
     "output_type": "display_data"
    }
   ],
   "source": [
    "#n = 1000, eta = 1, epsilon = 0\n",
    "n = 1000\n",
    "eta = 1\n",
    "epsilon = 0\n",
    "\n",
    "#Training model\n",
    "W, misclassifications_counter = PTA(trainX, trainY, eta, epsilon, n)\n",
    "plotMisclassifications(misclassifications_counter, \"Epoch vs misclassifications for n = 1000, eta = 1, epsilon = 0\")\n",
    "print(\"Misclassifications percentage over training data: \", misclassifications_counter[len(misclassifications_counter) - 1] / n * 100)"
   ]
  },
  {
   "cell_type": "code",
   "execution_count": 17,
   "metadata": {},
   "outputs": [
    {
     "name": "stdout",
     "output_type": "stream",
     "text": [
      "Misclassifications percentage over test data:  17.77\n"
     ]
    }
   ],
   "source": [
    "#Validation using test data\n",
    "error = testModel(testX, testY, W)\n",
    "print(\"Misclassifications percentage over test data: \", error / 10000 * 100)"
   ]
  },
  {
   "cell_type": "markdown",
   "metadata": {},
   "source": [
    "<b>Observations:</b>\n",
    "<ul>\n",
    "    <li>\n",
    "        The error rate converges to 0 for the training data of size n = 1000.\n",
    "    </li>\n",
    "    <li>\n",
    "        The error rate on the test data is 17.77%. This is lesser than the 45.6% obtained in Step 3f. This could be attributed to the fact the Network has trained on more information and thus the weights have been updated appropriately.\n",
    "    </li>\n",
    "</ul>"
   ]
  },
  {
   "cell_type": "markdown",
   "metadata": {},
   "source": [
    "Training for n = 60000, eta = 1, epsilon = 0 and testing the data using the test data.\n",
    "<br>\n",
    "Note: The maximum number of epochs is set to 500 since the algorithm didn't converge in the trial runs."
   ]
  },
  {
   "cell_type": "code",
   "execution_count": 18,
   "metadata": {},
   "outputs": [
    {
     "name": "stdout",
     "output_type": "stream",
     "text": [
      "Misclassifications percentage over training data:  13.718333333333332\n"
     ]
    },
    {
     "data": {
      "image/png": "[encoded data removed]",
      "text/plain": [
       "<Figure size 432x288 with 1 Axes>"
      ]
     },
     "metadata": {
      "needs_background": "light"
     },
     "output_type": "display_data"
    }
   ],
   "source": [
    "#n = 60000, eta = 1, epsilon = 0\n",
    "n = 60000\n",
    "eta = 1\n",
    "epsilon = 0\n",
    "\n",
    "#Training model\n",
    "W, misclassifications_counter = PTA(trainX, trainY, eta, epsilon, n, 500)\n",
    "plotMisclassifications(misclassifications_counter)\n",
    "print(\"Misclassifications percentage over training data: \", misclassifications_counter[len(misclassifications_counter) - 1] / n * 100)"
   ]
  },
  {
   "cell_type": "code",
   "execution_count": 24,
   "metadata": {},
   "outputs": [
    {
     "data": {
      "text/plain": [
       "[8179,\n",
       " 7704,\n",
       " 8540,\n",
       " 7945,\n",
       " 7452,\n",
       " 8690,\n",
       " 8413,\n",
       " 8527,\n",
       " 8676,\n",
       " 8147,\n",
       " 8420,\n",
       " 9851,\n",
       " 8409,\n",
       " 8232,\n",
       " 8925,\n",
       " 9968,\n",
       " 7791,\n",
       " 8324,\n",
       " 8578,\n",
       " 8231]"
      ]
     },
     "execution_count": 24,
     "metadata": {},
     "output_type": "execute_result"
    }
   ],
   "source": [
    "#Printing the last 20 misclassifications count\n",
    "misclassifications_counter[-20:]"
   ]
  },
  {
   "cell_type": "markdown",
   "metadata": {},
   "source": [
    "<b>Observations:</b>\n",
    "<ul>\n",
    "    <li>\n",
    "        The algorithm doesn't converge at 500 epochs. It can be seen that the misclassifications count hovers around 8000 (between 7000 and 9000). This could either mean that the learning rate is too large at 500 epochs to learn significantly or that the model is not powerful enough to learn the weights for the training samples. The first one could be rectified by reducing the learning rate at higher epochs. For the latter, a more powerful network with more layers and/or more neurons per layer can be designed.\n",
    "    </li>\n",
    "    <li>\n",
    "        The error rate on the training data has dropped to 13.71%.\n",
    "    </li>\n",
    "</ul>"
   ]
  },
  {
   "cell_type": "code",
   "execution_count": 19,
   "metadata": {},
   "outputs": [
    {
     "name": "stdout",
     "output_type": "stream",
     "text": [
      "Misclassifications percentage over test data:  13.87\n"
     ]
    }
   ],
   "source": [
    "#Validation using test data\n",
    "error = testModel(testX, testY, W)\n",
    "print(\"Misclassifications percentage over test data: \", error / 10000 * 100)"
   ]
  },
  {
   "cell_type": "markdown",
   "metadata": {},
   "source": [
    "<b>Observations:</b>\n",
    "<ul>\n",
    "    <li>\n",
    "        The error rate on the test data has dropped to 13.87%. This could be attributed to training on the entirety of the training data. As stated in the MNIST data description, the second half of the training data had more obscure data which was also included in the training. This has significantly reduced the error rate on the test data.\n",
    "    </li>\n",
    "</ul>"
   ]
  },
  {
   "cell_type": "markdown",
   "metadata": {},
   "source": [
    "Based on the observations above, which concluded that the PTA doesn't converge at 500 epochs, the average error at that point of training is 13.33% (misclassifications_counter[epoch - 1] / n ~ 8000 / 60000).\n",
    "<br>\n",
    "Thus, the epsilon is set to 0.133 to generate 3 models with random initial weights and testing using the test data."
   ]
  },
  {
   "cell_type": "markdown",
   "metadata": {},
   "source": [
    "<b>Run 1</b>"
   ]
  },
  {
   "cell_type": "code",
   "execution_count": 25,
   "metadata": {},
   "outputs": [
    {
     "name": "stdout",
     "output_type": "stream",
     "text": [
      "Misclassifications percentage over training data:  12.889999999999999\n"
     ]
    },
    {
     "data": {
      "image/png": "[encoded data removed]",
      "text/plain": [
       "<Figure size 432x288 with 1 Axes>"
      ]
     },
     "metadata": {
      "needs_background": "light"
     },
     "output_type": "display_data"
    }
   ],
   "source": [
    "#n = 60000, eta = 1, epsilon = 0.133\n",
    "n = 60000\n",
    "eta = 1\n",
    "epsilon = 0.133 # ~ 8000 / 60000\n",
    "\n",
    "#Training model\n",
    "W, misclassifications_counter = PTA(trainX, trainY, eta, epsilon, n, 500)\n",
    "plotMisclassifications(misclassifications_counter, \"Epoch vs misclassifications for n = 60000, eta = 1, epsilon = 0.133\")\n",
    "print(\"Misclassifications percentage over training data: \", misclassifications_counter[len(misclassifications_counter) - 1] / n * 100)"
   ]
  },
  {
   "cell_type": "code",
   "execution_count": 26,
   "metadata": {},
   "outputs": [
    {
     "name": "stdout",
     "output_type": "stream",
     "text": [
      "Misclassifications percentage over test data:  16.3\n"
     ]
    }
   ],
   "source": [
    "#Validation using test data\n",
    "error = testModel(testX, testY, W)\n",
    "print(\"Misclassifications percentage over test data: \", error / 10000 * 100)"
   ]
  },
  {
   "cell_type": "markdown",
   "metadata": {},
   "source": [
    "<b>Observations:</b>\n",
    "<ul>\n",
    "    <li>\n",
    "        The algorithm has terminated for epoch ~ 35.\n",
    "    </li>\n",
    "    <li>\n",
    "        The training error has been reduced to 12.89% which is marginally lesser than the error obtained for 500 epochs.\n",
    "    </li>\n",
    "    <li>\n",
    "        However, the test error has increased to 16.3%. This could indicate slight overfitting in the model.\n",
    "    </li>\n",
    "</ul>"
   ]
  },
  {
   "cell_type": "markdown",
   "metadata": {},
   "source": [
    "<b>Run 2</b>"
   ]
  },
  {
   "cell_type": "code",
   "execution_count": 30,
   "metadata": {},
   "outputs": [
    {
     "name": "stdout",
     "output_type": "stream",
     "text": [
      "Misclassifications percentage over training data:  13.211666666666666\n"
     ]
    },
    {
     "data": {
      "image/png": "[encoded data removed]",
      "text/plain": [
       "<Figure size 432x288 with 1 Axes>"
      ]
     },
     "metadata": {
      "needs_background": "light"
     },
     "output_type": "display_data"
    }
   ],
   "source": [
    "#n = 60000, eta = 1, epsilon = 0.133\n",
    "n = 60000\n",
    "eta = 1\n",
    "epsilon = 0.133 # ~ 8000 / 60000\n",
    "\n",
    "#Training model\n",
    "W, misclassifications_counter = PTA(trainX, trainY, eta, epsilon, n, 500)\n",
    "plotMisclassifications(misclassifications_counter, \"Epoch vs misclassifications for n = 60000, eta = 1, epsilon = 0.133\")\n",
    "print(\"Misclassifications percentage over training data: \", misclassifications_counter[len(misclassifications_counter) - 1] / n * 100)"
   ]
  },
  {
   "cell_type": "code",
   "execution_count": 31,
   "metadata": {},
   "outputs": [
    {
     "name": "stdout",
     "output_type": "stream",
     "text": [
      "Misclassifications percentage over test data:  16.86\n"
     ]
    }
   ],
   "source": [
    "#Validation using test data\n",
    "error = testModel(testX, testY, W)\n",
    "print(\"Misclassifications percentage over test data: \", error / 10000 * 100)"
   ]
  },
  {
   "cell_type": "markdown",
   "metadata": {},
   "source": [
    "<b>Observations:</b>\n",
    "<ul>\n",
    "    <li>\n",
    "        The algorithm has terminated faster i.e., for epoch < 12.\n",
    "    </li>\n",
    "    <li>\n",
    "        The training error has gone up marginally to 13.21%.\n",
    "    </li>\n",
    "    <li>\n",
    "        The test error remains around 16.86%.\n",
    "    </li>\n",
    "</ul>"
   ]
  },
  {
   "cell_type": "markdown",
   "metadata": {},
   "source": [
    "<b>Run 3</b>"
   ]
  },
  {
   "cell_type": "code",
   "execution_count": 33,
   "metadata": {},
   "outputs": [
    {
     "name": "stdout",
     "output_type": "stream",
     "text": [
      "Misclassifications percentage over training data:  12.828333333333333\n"
     ]
    },
    {
     "data": {
      "image/png": "[encoded data removed]",
      "text/plain": [
       "<Figure size 432x288 with 1 Axes>"
      ]
     },
     "metadata": {
      "needs_background": "light"
     },
     "output_type": "display_data"
    }
   ],
   "source": [
    "#n = 60000, eta = 1, epsilon = 0.133\n",
    "n = 60000\n",
    "eta = 1\n",
    "epsilon = 0.133 # ~ 8000 / 60000\n",
    "\n",
    "#Training model\n",
    "W, misclassifications_counter = PTA(trainX, trainY, eta, epsilon, n, 500)\n",
    "plotMisclassifications(misclassifications_counter, \"Epoch vs misclassifications for n = 60000, eta = 1, epsilon = 0.133\")\n",
    "print(\"Misclassifications percentage over training data: \", misclassifications_counter[len(misclassifications_counter) - 1] / n * 100)"
   ]
  },
  {
   "cell_type": "code",
   "execution_count": 34,
   "metadata": {},
   "outputs": [
    {
     "name": "stdout",
     "output_type": "stream",
     "text": [
      "Misclassifications percentage over test data:  16.150000000000002\n"
     ]
    }
   ],
   "source": [
    "#Validation using test data\n",
    "error = testModel(testX, testY, W)\n",
    "print(\"Misclassifications percentage over test data: \", error / 10000 * 100)"
   ]
  },
  {
   "cell_type": "markdown",
   "metadata": {},
   "source": [
    "<b>Observations:</b>\n",
    "<ul>\n",
    "    <li>\n",
    "        The algorithm has terminated at ~ 25 epochs. This seems to be similar to the average of epochs for the given threshold.\n",
    "    </li>\n",
    "    <li>\n",
    "        The training error has reduced further to 12.82%.\n",
    "    </li>\n",
    "    <li>\n",
    "        The test error is around 16%. This leads to the conclusion that the model is yet to learn important characteristics from the training data to classify better on the test data. As mentioned earlier, this could be achieved by either allowing the network to train for more epochs or by designing more powerful networks.\n",
    "    </li>\n",
    "</ul>"
   ]
  }
 ],
 "metadata": {
  "kernelspec": {
   "display_name": "Python 3",
   "language": "python",
   "name": "python3"
  },
  "language_info": {
   "codemirror_mode": {
    "name": "ipython",
    "version": 3
   },
   "file_extension": ".py",
   "mimetype": "text/x-python",
   "name": "python",
   "nbconvert_exporter": "python",
   "pygments_lexer": "ipython3",
   "version": "3.7.1"
  }
 },
 "nbformat": 4,
 "nbformat_minor": 2
}
