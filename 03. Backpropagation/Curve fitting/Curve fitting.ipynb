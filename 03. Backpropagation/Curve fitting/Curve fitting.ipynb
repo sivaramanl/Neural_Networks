{
 "cells": [
  {
   "cell_type": "markdown",
   "metadata": {},
   "source": [
    "<center><b>Backpropagation algorithm</b></center>\n",
    "<center><b>Studying the problem of curve fitting</b></center>"
   ]
  },
  {
   "cell_type": "markdown",
   "metadata": {},
   "source": [
    "<b>Objective:</b>\n",
    "<ul>\n",
    "    <li>The objective of this experiment is to study the backpropagation algorithm by solving a curve fitting problem.</li>\n",
    "    <li>The custom curve used for this task is di = sin(20xi) + 3xi + vi</li>\n",
    "    <li>The effects of choosing hyperparameters like weight initialization, number of incoming neurons, learning rate are studied to identify their impact on backpropagation.</li>\n",
    "</ul>"
   ]
  },
  {
   "cell_type": "code",
   "execution_count": 1,
   "metadata": {},
   "outputs": [],
   "source": [
    "#Import statements\n",
    "import numpy as np\n",
    "import math\n",
    "import matplotlib.pyplot as plt"
   ]
  },
  {
   "cell_type": "code",
   "execution_count": 13,
   "metadata": {
    "scrolled": false
   },
   "outputs": [
    {
     "name": "stdout",
     "output_type": "stream",
     "text": [
      "Shape of X vector: (300, 1)\n",
      "Shape of v vector: (300, 1)\n",
      "Shape of d vector: (300, 1)\n"
     ]
    }
   ],
   "source": [
    "#Initialization\n",
    "\n",
    "n = 300\n",
    "\n",
    "X = np.random.uniform(low = 0, high = 1, size = (n,))\n",
    "X = X.reshape(n, 1)\n",
    "print(\"Shape of X vector:\", X.shape)\n",
    "\n",
    "v = np.random.uniform(low = -0.1, high = 0.1, size = (n,))\n",
    "v = v.reshape(n, 1)\n",
    "print(\"Shape of v vector:\", v.shape)\n",
    "\n",
    "d = np.sin(20 * X) + (3 * X) + v\n",
    "print(\"Shape of d vector:\", d.shape)"
   ]
  },
  {
   "cell_type": "code",
   "execution_count": 14,
   "metadata": {},
   "outputs": [],
   "source": [
    "def plotData(dataX, dataY, title, xLabel, yLabel):\n",
    "    plt.rcParams[\"figure.figsize\"] = [5, 5]\n",
    "    plt.plot(dataX, dataY, '.')\n",
    "    plt.title(title)\n",
    "    plt.xlabel(xLabel)\n",
    "    plt.ylabel(yLabel)\n",
    "    plt.show()"
   ]
  },
  {
   "cell_type": "code",
   "execution_count": 15,
   "metadata": {},
   "outputs": [
    {
     "data": {
      "image/png": "[encoded data removed]",
      "text/plain": [
       "<Figure size 360x360 with 1 Axes>"
      ]
     },
     "metadata": {
      "needs_background": "light"
     },
     "output_type": "display_data"
    }
   ],
   "source": [
    "plotData(X, d, \"Desired outputs for generated data points\", \"X\", \"d\")"
   ]
  },
  {
   "cell_type": "code",
   "execution_count": 16,
   "metadata": {},
   "outputs": [],
   "source": [
    "#Number of hidden neurons\n",
    "N = 24\n",
    "\n",
    "import math\n",
    "from random import gauss\n",
    "\n",
    "def initW1W2():\n",
    "    mean_val = 0\n",
    "    variance_val = 1/N\n",
    "    \n",
    "    W1 = np.random.normal(mean_val, math.sqrt(1), N*2)\n",
    "    W1 = np.asarray(W1).reshape(N, 2)\n",
    "\n",
    "    #Weights generated using independent identically distributed random variables with mean 0 and variance 1/N\n",
    "    W2 = np.random.normal(mean_val, math.sqrt(variance_val), N+1)\n",
    "    W2 = np.asarray(W2).reshape(1, N+1)\n",
    "    \n",
    "    return W1, W2"
   ]
  },
  {
   "cell_type": "code",
   "execution_count": 17,
   "metadata": {},
   "outputs": [],
   "source": [
    "#Define the cost function\n",
    "def getMSE(d, y):\n",
    "    mse = (np.square(d - y)).mean()\n",
    "    return mse"
   ]
  },
  {
   "cell_type": "code",
   "execution_count": 18,
   "metadata": {},
   "outputs": [],
   "source": [
    "#Append a row of 1 for bias to the input data\n",
    "tempX = np.ones(X.shape[0], dtype=int).reshape(1, X.shape[0])\n",
    "dataX = np.append(tempX, X.reshape(1, X.shape[0]), axis=0)"
   ]
  },
  {
   "cell_type": "code",
   "execution_count": 19,
   "metadata": {},
   "outputs": [],
   "source": [
    "#Defining the activation functions and their derivatives\n",
    "\n",
    "def tanh(x):\n",
    "    return np.tanh(x)\n",
    "\n",
    "def tanh_derv(x):\n",
    "    return 1 - np.square(np.tanh(x))\n",
    "\n",
    "def identityFn(x):\n",
    "    return x\n",
    "\n",
    "def identityFn_derv(x):\n",
    "    return 1\n",
    "\n",
    "def output_derv(N, d, y):\n",
    "    return d - y"
   ]
  },
  {
   "cell_type": "code",
   "execution_count": 20,
   "metadata": {},
   "outputs": [],
   "source": [
    "def plotCost(cost):\n",
    "    plt.rcParams[\"figure.figsize\"] = [7, 5]\n",
    "    plt.plot(range(len(cost)), cost)\n",
    "    plt.title(\"Cost update\")\n",
    "    plt.xlabel(\"Epoch\")\n",
    "    plt.ylabel(\"Cost\")\n",
    "    plt.show()"
   ]
  },
  {
   "cell_type": "code",
   "execution_count": 21,
   "metadata": {
    "scrolled": false
   },
   "outputs": [
    {
     "data": {
      "image/png": "[encoded data removed]",
      "text/plain": [
       "<Figure size 504x360 with 1 Axes>"
      ]
     },
     "metadata": {
      "needs_background": "light"
     },
     "output_type": "display_data"
    }
   ],
   "source": [
    "epoch = 0\n",
    "\n",
    "W1, W2 = initW1W2()\n",
    "\n",
    "eta1 = 2 #Setting learning rate for the hidden layer higher since the number of incoming connections is 1\n",
    "eta2 = 1/math.sqrt(N) * 0.01 #Setting the learning rate inversely propotional to the number of incoming connections\n",
    "\n",
    "mse_tracker = []\n",
    "\n",
    "while True:\n",
    "    Y = []\n",
    "    for i in range(X.shape[0]):\n",
    "        #Forward pass\n",
    "        a_induced = np.matmul(W1, dataX[:, i].reshape(2, 1))\n",
    "        a_activated = tanh(a_induced)\n",
    "        tempA = np.ones((1,1), dtype=int).reshape(1, 1)\n",
    "        finalA = np.append(tempA, a_activated, axis=0)\n",
    "        a2_induced = np.matmul(W2, finalA)\n",
    "        a2_activated = identityFn(a2_induced)\n",
    "        y = a2_activated\n",
    "        Y.append(y[0, 0])\n",
    "    \n",
    "        #Backward pass\n",
    "        a2_backward = identityFn_derv(a2_induced)\n",
    "        a_backward = tanh_derv(a_induced)\n",
    "        \n",
    "        #Weights update\n",
    "        y_prime = output_derv(N, d[i], y)\n",
    "        dEdW2 = - a_activated * y_prime * a2_backward\n",
    "        dEdb2 = - y_prime * a2_backward\n",
    "        dEdW1 = - X[i] * y_prime * a2_backward * W2[0, 1:].reshape(N, 1) * a_backward\n",
    "        dEdb1 = - y_prime * a2_backward * a_backward * W2[0, 1:].reshape(N, 1)\n",
    "        \n",
    "        newW2 = W2[0, 1:].reshape(N, 1) - (eta2 * dEdW2)\n",
    "        newB2 = W2[0, 0] - (eta2 * dEdb2)\n",
    "        W2 = np.append(newB2, newW2).reshape(1, N+1)\n",
    "        newW1 = W1[:, 1].reshape(N, 1) - (eta1 * dEdW1)\n",
    "        newB1 = W1[:, 0].reshape(N, 1) - (eta1 * dEdb1)\n",
    "        W1 = np.append(newB1, newW1, axis=1)\n",
    "        \n",
    "    epoch += 1\n",
    "    \n",
    "    #MSE update\n",
    "    #Calculating Y using final weights\n",
    "    Y2 = []\n",
    "    for i in range(X.shape[0]):\n",
    "        a_induced = np.matmul(W1, dataX[:, i].reshape(2, 1))\n",
    "        a_activated = tanh(a_induced)\n",
    "        tempA = np.ones((1,1), dtype=int).reshape(1, 1)\n",
    "        finalA = np.append(tempA, a_activated, axis=0)\n",
    "        a2_induced = np.matmul(W2, finalA)\n",
    "        a2_activated = identityFn(a2_induced)\n",
    "        y = a2_activated\n",
    "        Y2.append(y[0, 0])\n",
    "    mse_tracker.append(getMSE(d, np.asarray(Y2).reshape(len(Y2), 1)))\n",
    "    \n",
    "    if len(mse_tracker) > 1:\n",
    "        if mse_tracker[-1] and abs(mse_tracker[-1] - mse_tracker[-2]) < 1e-7: #threshold reached\n",
    "            break\n",
    "        elif mse_tracker[-1] > mse_tracker[-2]: #divergence detected -> reduce learning rate\n",
    "            eta1 -= 0.1 * eta1\n",
    "        \n",
    "plotCost(mse_tracker)"
   ]
  },
  {
   "cell_type": "code",
   "execution_count": 22,
   "metadata": {
    "scrolled": false
   },
   "outputs": [
    {
     "name": "stdout",
     "output_type": "stream",
     "text": [
      "Minimized cost: 0.003688806776871285\n",
      "Number of epochs trained for convergence: 5718\n"
     ]
    }
   ],
   "source": [
    "print(\"Minimized cost:\", mse_tracker[-1])\n",
    "print(\"Number of epochs trained for convergence:\", len(mse_tracker))"
   ]
  },
  {
   "cell_type": "code",
   "execution_count": 23,
   "metadata": {},
   "outputs": [
    {
     "data": {
      "image/png": "[encoded data removed]",
      "text/plain": [
       "<Figure size 432x432 with 1 Axes>"
      ]
     },
     "metadata": {
      "needs_background": "light"
     },
     "output_type": "display_data"
    }
   ],
   "source": [
    "#Plotting the derived values vs actual values\n",
    "plt.rcParams[\"figure.figsize\"] = [6, 6]\n",
    "plt.plot(X, d, 'b.', label = \"Actual outputs\")\n",
    "plt.plot(X, Y2, 'r+', label = \"Derived outputs\")\n",
    "plt.title(\"Derived outputs vs desired outputs\")\n",
    "plt.xlabel(\"X\")\n",
    "plt.ylabel(\"Output values\")\n",
    "plt.legend(loc='upper left')\n",
    "plt.show()"
   ]
  }
 ],
 "metadata": {
  "kernelspec": {
   "display_name": "Python 3",
   "language": "python",
   "name": "python3"
  },
  "language_info": {
   "codemirror_mode": {
    "name": "ipython",
    "version": 3
   },
   "file_extension": ".py",
   "mimetype": "text/x-python",
   "name": "python",
   "nbconvert_exporter": "python",
   "pygments_lexer": "ipython3",
   "version": "3.7.1"
  }
 },
 "nbformat": 4,
 "nbformat_minor": 2
}
