{
 "cells": [
  {
   "cell_type": "markdown",
   "metadata": {},
   "source": [
    "<center><b>Backpropagation algorithm</b></center>\n",
    "<center><b>MNIST digit data classification</b></center>"
   ]
  },
  {
   "cell_type": "code",
   "execution_count": 1,
   "metadata": {},
   "outputs": [
    {
     "name": "stdout",
     "output_type": "stream",
     "text": [
      "File already exists.\n",
      "train-images-idx3-ubyte.gz\n",
      "File already exists.\n",
      "train-labels-idx1-ubyte.gz\n",
      "File already exists.\n",
      "t10k-images-idx3-ubyte.gz\n",
      "File already exists.\n",
      "t10k-labels-idx1-ubyte.gz\n"
     ]
    }
   ],
   "source": [
    "#Download the MNIST data\n",
    "\n",
    "import urllib.request\n",
    "import os\n",
    "import gzip\n",
    "import numpy as np\n",
    "\n",
    "def extractData(fileName, isData):\n",
    "    if os.path.exists(fileName):\n",
    "        print(fileName)\n",
    "        if isData:\n",
    "            offsetBit = 16 #Offset byte is 16 for data as per description\n",
    "        else:\n",
    "            offsetBit = 8 #Offset byte is 8 for labels as per description\n",
    "        with gzip.open(fileName, 'rb') as f:\n",
    "            data = np.frombuffer(f.read(), np.uint8, offset = offsetBit)\n",
    "        return data\n",
    "    \n",
    "def getData(fileName, URL, isData=True):\n",
    "    if not os.path.exists(fileName):\n",
    "        print(\"Downloading file: \", fileName)\n",
    "        urllib.request.urlretrieve(URL + fileName, fileName)\n",
    "    else:\n",
    "        print(\"File already exists.\")\n",
    "    return extractData(fileName, isData)\n",
    "    \n",
    "def loadData(isTrain):\n",
    "    URL = 'http://yann.lecun.com/exdb/mnist/'\n",
    "    if isTrain:\n",
    "        dataFile = 'train-images-idx3-ubyte.gz'\n",
    "        labelsFile = 'train-labels-idx1-ubyte.gz'\n",
    "    else:\n",
    "        dataFile = 't10k-images-idx3-ubyte.gz'\n",
    "        labelsFile = 't10k-labels-idx1-ubyte.gz'\n",
    "    return getData(dataFile, URL), getData(labelsFile, URL, False)\n",
    "\n",
    "trainDataX, trainDataY = loadData(True)\n",
    "testDataX, testDataY = loadData(False)"
   ]
  },
  {
   "cell_type": "code",
   "execution_count": 3,
   "metadata": {},
   "outputs": [
    {
     "data": {
      "text/plain": [
       "<matplotlib.image.AxesImage at 0x20065d211d0>"
      ]
     },
     "execution_count": 3,
     "metadata": {},
     "output_type": "execute_result"
    },
    {
     "data": {
      "image/png": "[encoded data removed]",
      "text/plain": [
       "<Figure size 432x288 with 1 Axes>"
      ]
     },
     "metadata": {
      "needs_background": "light"
     },
     "output_type": "display_data"
    }
   ],
   "source": [
    "#Reshaping the linear data into matrices\n",
    "\n",
    "trainDataSize = 60000\n",
    "testDataSize = 10000\n",
    "imgSizeX = 28\n",
    "imgSizeY = 28\n",
    "\n",
    "trainX = trainDataX.reshape(trainDataSize, imgSizeX * imgSizeY)\n",
    "trainY = trainDataY.reshape(trainDataSize, 1)\n",
    "testX = testDataX.reshape(testDataSize, imgSizeX * imgSizeY)\n",
    "testY = testDataY.reshape(testDataSize, 1)\n",
    "import matplotlib.pyplot as plt\n",
    "plt.imshow(trainX[0].reshape(28, 28), cmap='gray_r')"
   ]
  },
  {
   "cell_type": "code",
   "execution_count": 4,
   "metadata": {},
   "outputs": [],
   "source": [
    "#Input normalization\n",
    "trainX = trainX/255\n",
    "testX = testX/255"
   ]
  },
  {
   "cell_type": "code",
   "execution_count": 5,
   "metadata": {},
   "outputs": [],
   "source": [
    "#Convert labels to one-hot encoded vectors\n",
    "\n",
    "def getVectorForOutput(y, length):\n",
    "    return np.array([1 if i == y else 0 for i in range(length)])\n",
    "\n",
    "def oneHotEncode(Y, size):\n",
    "    yMatrix = np.zeros((size, Y.shape[0]))\n",
    "    i = 0\n",
    "    for entry in Y:\n",
    "        yMatrix[:, i] = getVectorForOutput(entry, size)\n",
    "        i += 1\n",
    "    return yMatrix\n",
    "\n",
    "trainY = oneHotEncode(trainY, 10)\n",
    "testY = oneHotEncode(testY, 10)"
   ]
  },
  {
   "cell_type": "code",
   "execution_count": 6,
   "metadata": {},
   "outputs": [],
   "source": [
    "import math\n",
    "from random import gauss\n",
    "\n",
    "def initWeights(shape, incomingConnectionsCount):\n",
    "    mean_val = 0\n",
    "    variance_val = 1/incomingConnectionsCount\n",
    "\n",
    "    #Weights generated using independent identically distributed random variables with mean 0 and variance 1/incomingConnectionsCount\n",
    "    W = np.random.normal(mean_val, math.sqrt(variance_val), shape[0] * shape[1])\n",
    "    W = np.asarray(W).reshape(shape[0], shape[1])\n",
    "    \n",
    "    b = np.random.normal(mean_val, math.sqrt(variance_val), shape[0] * 1)\n",
    "    b = np.asarray(b).reshape(shape[0], 1)\n",
    "    \n",
    "    return W, b"
   ]
  },
  {
   "cell_type": "code",
   "execution_count": 7,
   "metadata": {},
   "outputs": [],
   "source": [
    "#activation functions\n",
    "def sigmoid(z):\n",
    "    return 1 / (1 + np.exp(-z))\n",
    "\n",
    "def sigmoid_derv(s_z):\n",
    "    return s_z * (1 - s_z)\n",
    "\n",
    "def softmax(x):\n",
    "    return np.exp(x) / np.sum(np.exp(x), axis=0)"
   ]
  },
  {
   "cell_type": "code",
   "execution_count": 8,
   "metadata": {},
   "outputs": [],
   "source": [
    "trainX2 = trainX.copy()\n",
    "testX2 = testX.copy()\n",
    "trainX = trainX.T\n",
    "testX = testX.T"
   ]
  },
  {
   "cell_type": "code",
   "execution_count": 22,
   "metadata": {
    "scrolled": false
   },
   "outputs": [
    {
     "data": {
      "image/png": "[encoded data removed]",
      "text/plain": [
       "<Figure size 432x288 with 1 Axes>"
      ]
     },
     "metadata": {
      "needs_background": "light"
     },
     "output_type": "display_data"
    },
    {
     "name": "stdout",
     "output_type": "stream",
     "text": [
      "Minimized cost: 0.0051372410721588916\n",
      "Number of epochs: 91\n"
     ]
    },
    {
     "data": {
      "image/png": "[encoded data removed]",
      "text/plain": [
       "<Figure size 432x288 with 1 Axes>"
      ]
     },
     "metadata": {
      "needs_background": "light"
     },
     "output_type": "display_data"
    },
    {
     "name": "stdout",
     "output_type": "stream",
     "text": [
      "Final number of misclassifications on training data: 12\n",
      "Final number of misclassifications on test data: 283\n"
     ]
    }
   ],
   "source": [
    "def plotCost(trainCost, testCost):\n",
    "    plt.plot(range(len(trainCost)), trainCost, label = \"Training data cost\")\n",
    "    plt.plot(range(len(testCost)), testCost, label = \"Test data cost\")\n",
    "    plt.title(\"Cost update\")\n",
    "    plt.xlabel(\"Epoch\")\n",
    "    plt.ylabel(\"Cost\")\n",
    "    plt.legend(loc='upper right')\n",
    "    plt.show()\n",
    "    \n",
    "def plotMisclassifications(misclassificationsTrain, misclassificationsTest):\n",
    "    plt.plot(range(len(misclassificationsTrain)), misclassificationsTrain, label = \"Training data misclassifications\")\n",
    "    plt.plot(range(len(misclassificationsTest)), misclassificationsTest, label = \"Test data misclassifications\")\n",
    "    plt.title(\"Misclassifications per epoch\")\n",
    "    plt.xlabel(\"Epoch\")\n",
    "    plt.ylabel(\"Misclassifications\")\n",
    "    plt.legend(loc='upper right')\n",
    "    plt.show()\n",
    "\n",
    "def compute_loss(d, Y):\n",
    "    return - 1 / d.shape[1] * np.sum(np.multiply(d, np.log(Y)))\n",
    "\n",
    "def trainModel(X, y, testX, testY):\n",
    "    #eta1 = 1 / math.sqrt(784) * 1\n",
    "    #eta2 = 1 / math.sqrt(100) * 0.5\n",
    "    eta1 = eta2 = 0.5\n",
    "    \n",
    "    batch_size = 60\n",
    "    batches = X.shape[1] // batch_size + 1\n",
    "    \n",
    "    #Adding hidden layers\n",
    "    W1, b1 = initWeights([50, X.shape[0]], X.shape[0])\n",
    "    W2, b2 = initWeights([10, 50], 50)\n",
    "    \n",
    "    epoch = 0\n",
    "    cost_tracker = []\n",
    "    cost_tracker_test = []\n",
    "    misclassifications_counter = []\n",
    "    misclassifications_counter_test = []\n",
    "    \n",
    "    while True:\n",
    "        for i in range(batches):\n",
    "            start_batch = i * batch_size\n",
    "            end_batch = start_batch + batch_size\n",
    "            cur_batch_size = end_batch - start_batch\n",
    "            if end_batch >= X.shape[1]:\n",
    "                end_batch = X.shape[1]\n",
    "                cur_batch_size = end_batch - start_batch\n",
    "            X_batch = X[:, start_batch:end_batch]\n",
    "            Y_batch = y[:, start_batch:end_batch]\n",
    "        \n",
    "            #Forward pass\n",
    "            a1_induced = np.matmul(W1, X_batch) + b1\n",
    "            a1_activated = sigmoid(a1_induced)\n",
    "\n",
    "            a2_induced = np.matmul(W2, a1_activated) + b2\n",
    "            a2_activated = softmax(a2_induced)\n",
    "\n",
    "            #Backward pass\n",
    "            a2_backward = 1\n",
    "            a1_backward = sigmoid_derv(a1_activated)\n",
    "            \n",
    "            #Weights update\n",
    "            y_prime = Y_batch - a2_activated\n",
    "        \n",
    "            dEdW22 = - 1 / batch_size * np.matmul(y_prime, a1_activated.T) * a2_backward\n",
    "            dEdb22 = - 1 / batch_size * np.sum(y_prime, axis = 1, keepdims = True)\n",
    "\n",
    "            tempVal = np.matmul(W2.T, y_prime) * a1_backward\n",
    "            dEdW11 = - 1 / batch_size * (np.matmul(tempVal, X_batch.T))\n",
    "            dEdb11 = - 1 / batch_size * np.sum(tempVal, axis = 1, keepdims = True)\n",
    "\n",
    "            W1 = W1 - (eta1 * dEdW11)\n",
    "            b1 = b1 - (eta1 * dEdb11)\n",
    "            W2 = W2 - (eta2 * dEdW22)\n",
    "            b2 = b2 - (eta2 * dEdb22)\n",
    "        \n",
    "        epoch += 1\n",
    "        \n",
    "        #Cost calculation\n",
    "        #Train data\n",
    "        a1_induced = np.matmul(W1, X) + b1\n",
    "        a1_activated = sigmoid(a1_induced)\n",
    "\n",
    "        a2_induced = np.matmul(W2, a1_activated) + b2\n",
    "        a2_activated = softmax(a2_induced)\n",
    "        \n",
    "        cost = compute_loss(y, a2_activated)\n",
    "        cost_tracker.append(cost)\n",
    "        \n",
    "        predictedY = a2_activated\n",
    "        count = 0\n",
    "        for i in range(X.shape[1]):\n",
    "            if np.argmax(y[:, i]) != np.argmax(predictedY[:, i]):\n",
    "                count += 1\n",
    "        misclassifications_counter.append(count)\n",
    "        \n",
    "        #Test data\n",
    "        a1_induced = np.matmul(W1, testX) + b1\n",
    "        a1_activated = sigmoid(a1_induced)\n",
    "\n",
    "        a2_induced = np.matmul(W2, a1_activated) + b2\n",
    "        a2_activated = softmax(a2_induced)\n",
    "        \n",
    "        cost = compute_loss(testY, a2_activated)\n",
    "        cost_tracker_test.append(cost)\n",
    "        \n",
    "        predictedY = a2_activated\n",
    "        count = 0\n",
    "        for i in range(testX.shape[1]):\n",
    "            if np.argmax(testY[:, i]) != np.argmax(predictedY[:, i]):\n",
    "                count += 1\n",
    "        misclassifications_counter_test.append(count)\n",
    "        \n",
    "        if len(cost_tracker) > 1:\n",
    "            if abs(cost_tracker[-1] - cost_tracker[-2]) < 1e-4:\n",
    "                break\n",
    "            elif cost_tracker[-1] > cost_tracker[-2]: #divergence detected -> reduce learning rate\n",
    "                eta1 -= 0.1 * eta1\n",
    "            \n",
    "    return W1, b1, W2, b2, cost_tracker, cost_tracker_test, misclassifications_counter, misclassifications_counter_test\n",
    "    \n",
    "W1, b1, W2, b2, cost_tracker, cost_tracker_test, misclassifications_counter, misclassifications_counter_test = trainModel(trainX, trainY, testX, testY)\n",
    "plotCost(cost_tracker, cost_tracker_test)\n",
    "print(\"Minimized cost:\", cost_tracker[-1])\n",
    "print(\"Number of epochs:\", len(cost_tracker))\n",
    "plotMisclassifications(misclassifications_counter, misclassifications_counter_test)\n",
    "print(\"Final number of misclassifications on training data:\", misclassifications_counter[-1])\n",
    "print(\"Final number of misclassifications on test data:\", misclassifications_counter_test[-1])"
   ]
  },
  {
   "cell_type": "code",
   "execution_count": 24,
   "metadata": {},
   "outputs": [
    {
     "name": "stdout",
     "output_type": "stream",
     "text": [
      "Training accuracy:  99.98\n",
      "Test accuracy:  97.17\n"
     ]
    }
   ],
   "source": [
    "#Calculating final accuracies\n",
    "training_accuracy = (trainX.shape[1] - misclassifications_counter[-1]) / trainX.shape[1] * 100\n",
    "test_accuracy = (testX.shape[1] - misclassifications_counter_test[-1]) / testX.shape[1] * 100\n",
    "\n",
    "print(\"Training accuracy: \", training_accuracy)\n",
    "print(\"Test accuracy: \", test_accuracy)"
   ]
  }
 ],
 "metadata": {
  "kernelspec": {
   "display_name": "Python 3",
   "language": "python",
   "name": "python3"
  },
  "language_info": {
   "codemirror_mode": {
    "name": "ipython",
    "version": 3
   },
   "file_extension": ".py",
   "mimetype": "text/x-python",
   "name": "python",
   "nbconvert_exporter": "python",
   "pygments_lexer": "ipython3",
   "version": "3.7.1"
  }
 },
 "nbformat": 4,
 "nbformat_minor": 2
}
